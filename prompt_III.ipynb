{
 "cells": [
  {
   "cell_type": "markdown",
   "metadata": {},
   "source": [
    "# Practical Application III: Comparing Classifiers\n",
    "\n",
    "**Overview**: In this practical application, your goal is to compare the performance of the classifiers we encountered in this section, namely K Nearest Neighbor, Logistic Regression, Decision Trees, and Support Vector Machines.  We will utilize a dataset related to marketing bank products over the telephone.  \n",
    "\n"
   ]
  },
  {
   "cell_type": "markdown",
   "metadata": {},
   "source": [
    "### Getting Started\n",
    "\n",
    "Our dataset comes from the UCI Machine Learning repository [link](https://archive.ics.uci.edu/ml/datasets/bank+marketing).  The data is from a Portugese banking institution and is a collection of the results of multiple marketing campaigns.  We will make use of the article accompanying the dataset [here](CRISP-DM-BANK.pdf) for more information on the data and features.\n",
    "\n"
   ]
  },
  {
   "cell_type": "markdown",
   "metadata": {},
   "source": [
    "### Problem 1: Understanding the Data\n",
    "\n",
    "To gain a better understanding of the data, please read the information provided in the UCI link above, and examine the **Materials and Methods** section of the paper.  How many marketing campaigns does this data represent?"
   ]
  },
  {
   "cell_type": "code",
   "execution_count": 57,
   "metadata": {},
   "outputs": [
    {
     "data": {
      "text/plain": [
       "'Assessment of bank direct marketing was performed using CRISP Data mining methodology. The data \\ncollected by the bank collected during 17 campaigns undertaken from may 2008 till Novermber 2010. Total of 79354 corresponding \\ndata was collected. \\n\\nthe assessment of the data was performed using Naive Bayes, Decision tree and SVM and a performamce comparison\\nwas drawn. based on 20 iterations performed for each of the method used, performace of the model was \\nassessed by plotting ROC curve and Lift curve. Area under the ROC indicated SVM model was the best \\nperformer and decision tree performed significantly less efficiently. \\n\\nFor the current analysis, classification methods including Logistinc regression, KNN, DT and SVM will be \\nperformed and comparison will be presented. '"
      ]
     },
     "execution_count": 57,
     "metadata": {},
     "output_type": "execute_result"
    }
   ],
   "source": [
    "'''Assessment of bank direct marketing was performed using CRISP Data mining methodology. The data \n",
    "collected by the bank collected during 17 campaigns undertaken from may 2008 till Novermber 2010. Total of 79354 corresponding \n",
    "data was collected. \n",
    "\n",
    "the assessment of the data was performed using Naive Bayes, Decision tree and SVM and a performamce comparison\n",
    "was drawn. based on 20 iterations performed for each of the method used, performace of the model was \n",
    "assessed by plotting ROC curve and Lift curve. Area under the ROC indicated SVM model was the best \n",
    "performer and decision tree performed significantly less efficiently. \n",
    "\n",
    "For the current analysis, classification methods including Logistinc regression, KNN, DT and SVM will be \n",
    "performed and comparison will be presented. '''"
   ]
  },
  {
   "cell_type": "markdown",
   "metadata": {},
   "source": [
    "### Problem 2: Read in the Data\n",
    "\n",
    "Use pandas to read in the dataset `bank-additional-full.csv` and assign to a meaningful variable name."
   ]
  },
  {
   "cell_type": "code",
   "execution_count": 521,
   "metadata": {},
   "outputs": [],
   "source": [
    "import pandas as pd\n",
    "from pandas import get_dummies\n",
    "import matplotlib.pyplot as plt\n",
    "import seaborn as sns\n",
    "\n",
    "from sklearn.preprocessing import StandardScaler, OneHotEncoder\n",
    "from sklearn.compose import make_column_transformer\n",
    "from sklearn.model_selection import train_test_split, GridSearchCV\n",
    "from sklearn.linear_model import LogisticRegression\n",
    "from sklearn.metrics import accuracy_score, roc_auc_score, f1_score, log_loss, roc_curve,\\\n",
    "    plot_confusion_matrix, precision_score\n",
    "from sklearn.neighbors import KNeighborsClassifier\n",
    "from sklearn.tree import DecisionTreeClassifier, export_text, plot_tree\n",
    "from sklearn.compose import make_column_transformer\n",
    "from sklearn.pipeline import Pipeline\n",
    "import time\n",
    "from tabulate import tabulate\n",
    "from sklearn.svm import SVC"
   ]
  },
  {
   "cell_type": "code",
   "execution_count": 522,
   "metadata": {},
   "outputs": [],
   "source": [
    "df = pd.read_csv('/Users/jetindersingh/Downloads/module_17_starter/data/bank-additional-full.csv', sep = ';')"
   ]
  },
  {
   "cell_type": "code",
   "execution_count": 523,
   "metadata": {},
   "outputs": [
    {
     "data": {
      "text/html": [
       "<div>\n",
       "<style scoped>\n",
       "    .dataframe tbody tr th:only-of-type {\n",
       "        vertical-align: middle;\n",
       "    }\n",
       "\n",
       "    .dataframe tbody tr th {\n",
       "        vertical-align: top;\n",
       "    }\n",
       "\n",
       "    .dataframe thead th {\n",
       "        text-align: right;\n",
       "    }\n",
       "</style>\n",
       "<table border=\"1\" class=\"dataframe\">\n",
       "  <thead>\n",
       "    <tr style=\"text-align: right;\">\n",
       "      <th></th>\n",
       "      <th>age</th>\n",
       "      <th>job</th>\n",
       "      <th>marital</th>\n",
       "      <th>education</th>\n",
       "      <th>default</th>\n",
       "      <th>housing</th>\n",
       "      <th>loan</th>\n",
       "      <th>contact</th>\n",
       "      <th>month</th>\n",
       "      <th>day_of_week</th>\n",
       "      <th>...</th>\n",
       "      <th>campaign</th>\n",
       "      <th>pdays</th>\n",
       "      <th>previous</th>\n",
       "      <th>poutcome</th>\n",
       "      <th>emp.var.rate</th>\n",
       "      <th>cons.price.idx</th>\n",
       "      <th>cons.conf.idx</th>\n",
       "      <th>euribor3m</th>\n",
       "      <th>nr.employed</th>\n",
       "      <th>y</th>\n",
       "    </tr>\n",
       "  </thead>\n",
       "  <tbody>\n",
       "    <tr>\n",
       "      <th>0</th>\n",
       "      <td>56</td>\n",
       "      <td>housemaid</td>\n",
       "      <td>married</td>\n",
       "      <td>basic.4y</td>\n",
       "      <td>no</td>\n",
       "      <td>no</td>\n",
       "      <td>no</td>\n",
       "      <td>telephone</td>\n",
       "      <td>may</td>\n",
       "      <td>mon</td>\n",
       "      <td>...</td>\n",
       "      <td>1</td>\n",
       "      <td>999</td>\n",
       "      <td>0</td>\n",
       "      <td>nonexistent</td>\n",
       "      <td>1.1</td>\n",
       "      <td>93.994</td>\n",
       "      <td>-36.4</td>\n",
       "      <td>4.857</td>\n",
       "      <td>5191.0</td>\n",
       "      <td>no</td>\n",
       "    </tr>\n",
       "    <tr>\n",
       "      <th>1</th>\n",
       "      <td>57</td>\n",
       "      <td>services</td>\n",
       "      <td>married</td>\n",
       "      <td>high.school</td>\n",
       "      <td>unknown</td>\n",
       "      <td>no</td>\n",
       "      <td>no</td>\n",
       "      <td>telephone</td>\n",
       "      <td>may</td>\n",
       "      <td>mon</td>\n",
       "      <td>...</td>\n",
       "      <td>1</td>\n",
       "      <td>999</td>\n",
       "      <td>0</td>\n",
       "      <td>nonexistent</td>\n",
       "      <td>1.1</td>\n",
       "      <td>93.994</td>\n",
       "      <td>-36.4</td>\n",
       "      <td>4.857</td>\n",
       "      <td>5191.0</td>\n",
       "      <td>no</td>\n",
       "    </tr>\n",
       "    <tr>\n",
       "      <th>2</th>\n",
       "      <td>37</td>\n",
       "      <td>services</td>\n",
       "      <td>married</td>\n",
       "      <td>high.school</td>\n",
       "      <td>no</td>\n",
       "      <td>yes</td>\n",
       "      <td>no</td>\n",
       "      <td>telephone</td>\n",
       "      <td>may</td>\n",
       "      <td>mon</td>\n",
       "      <td>...</td>\n",
       "      <td>1</td>\n",
       "      <td>999</td>\n",
       "      <td>0</td>\n",
       "      <td>nonexistent</td>\n",
       "      <td>1.1</td>\n",
       "      <td>93.994</td>\n",
       "      <td>-36.4</td>\n",
       "      <td>4.857</td>\n",
       "      <td>5191.0</td>\n",
       "      <td>no</td>\n",
       "    </tr>\n",
       "    <tr>\n",
       "      <th>3</th>\n",
       "      <td>40</td>\n",
       "      <td>admin.</td>\n",
       "      <td>married</td>\n",
       "      <td>basic.6y</td>\n",
       "      <td>no</td>\n",
       "      <td>no</td>\n",
       "      <td>no</td>\n",
       "      <td>telephone</td>\n",
       "      <td>may</td>\n",
       "      <td>mon</td>\n",
       "      <td>...</td>\n",
       "      <td>1</td>\n",
       "      <td>999</td>\n",
       "      <td>0</td>\n",
       "      <td>nonexistent</td>\n",
       "      <td>1.1</td>\n",
       "      <td>93.994</td>\n",
       "      <td>-36.4</td>\n",
       "      <td>4.857</td>\n",
       "      <td>5191.0</td>\n",
       "      <td>no</td>\n",
       "    </tr>\n",
       "    <tr>\n",
       "      <th>4</th>\n",
       "      <td>56</td>\n",
       "      <td>services</td>\n",
       "      <td>married</td>\n",
       "      <td>high.school</td>\n",
       "      <td>no</td>\n",
       "      <td>no</td>\n",
       "      <td>yes</td>\n",
       "      <td>telephone</td>\n",
       "      <td>may</td>\n",
       "      <td>mon</td>\n",
       "      <td>...</td>\n",
       "      <td>1</td>\n",
       "      <td>999</td>\n",
       "      <td>0</td>\n",
       "      <td>nonexistent</td>\n",
       "      <td>1.1</td>\n",
       "      <td>93.994</td>\n",
       "      <td>-36.4</td>\n",
       "      <td>4.857</td>\n",
       "      <td>5191.0</td>\n",
       "      <td>no</td>\n",
       "    </tr>\n",
       "  </tbody>\n",
       "</table>\n",
       "<p>5 rows × 21 columns</p>\n",
       "</div>"
      ],
      "text/plain": [
       "   age        job  marital    education  default housing loan    contact  \\\n",
       "0   56  housemaid  married     basic.4y       no      no   no  telephone   \n",
       "1   57   services  married  high.school  unknown      no   no  telephone   \n",
       "2   37   services  married  high.school       no     yes   no  telephone   \n",
       "3   40     admin.  married     basic.6y       no      no   no  telephone   \n",
       "4   56   services  married  high.school       no      no  yes  telephone   \n",
       "\n",
       "  month day_of_week  ...  campaign  pdays  previous     poutcome emp.var.rate  \\\n",
       "0   may         mon  ...         1    999         0  nonexistent          1.1   \n",
       "1   may         mon  ...         1    999         0  nonexistent          1.1   \n",
       "2   may         mon  ...         1    999         0  nonexistent          1.1   \n",
       "3   may         mon  ...         1    999         0  nonexistent          1.1   \n",
       "4   may         mon  ...         1    999         0  nonexistent          1.1   \n",
       "\n",
       "   cons.price.idx  cons.conf.idx  euribor3m  nr.employed   y  \n",
       "0          93.994          -36.4      4.857       5191.0  no  \n",
       "1          93.994          -36.4      4.857       5191.0  no  \n",
       "2          93.994          -36.4      4.857       5191.0  no  \n",
       "3          93.994          -36.4      4.857       5191.0  no  \n",
       "4          93.994          -36.4      4.857       5191.0  no  \n",
       "\n",
       "[5 rows x 21 columns]"
      ]
     },
     "execution_count": 523,
     "metadata": {},
     "output_type": "execute_result"
    }
   ],
   "source": [
    "df.head()"
   ]
  },
  {
   "cell_type": "markdown",
   "metadata": {},
   "source": [
    "### Problem 3: Understanding the Features\n",
    "\n",
    "\n",
    "Examine the data description below, and determine if any of the features are missing values or need to be coerced to a different data type.\n",
    "\n",
    "\n",
    "```\n",
    "Input variables:\n",
    "# bank client data:\n",
    "1 - age (numeric)\n",
    "2 - job : type of job (categorical: 'admin.','blue-collar','entrepreneur','housemaid','management','retired','self-employed','services','student','technician','unemployed','unknown')\n",
    "3 - marital : marital status (categorical: 'divorced','married','single','unknown'; note: 'divorced' means divorced or widowed)\n",
    "4 - education (categorical: 'basic.4y','basic.6y','basic.9y','high.school','illiterate','professional.course','university.degree','unknown')\n",
    "5 - default: has credit in default? (categorical: 'no','yes','unknown')\n",
    "6 - housing: has housing loan? (categorical: 'no','yes','unknown')\n",
    "7 - loan: has personal loan? (categorical: 'no','yes','unknown')\n",
    "# related with the last contact of the current campaign:\n",
    "8 - contact: contact communication type (categorical: 'cellular','telephone')\n",
    "9 - month: last contact month of year (categorical: 'jan', 'feb', 'mar', ..., 'nov', 'dec')\n",
    "10 - day_of_week: last contact day of the week (categorical: 'mon','tue','wed','thu','fri')\n",
    "11 - duration: last contact duration, in seconds (numeric). Important note: this attribute highly affects the output target (e.g., if duration=0 then y='no'). Yet, the duration is not known before a call is performed. Also, after the end of the call y is obviously known. Thus, this input should only be included for benchmark purposes and should be discarded if the intention is to have a realistic predictive model.\n",
    "# other attributes:\n",
    "12 - campaign: number of contacts performed during this campaign and for this client (numeric, includes last contact)\n",
    "13 - pdays: number of days that passed by after the client was last contacted from a previous campaign (numeric; 999 means client was not previously contacted)\n",
    "14 - previous: number of contacts performed before this campaign and for this client (numeric)\n",
    "15 - poutcome: outcome of the previous marketing campaign (categorical: 'failure','nonexistent','success')\n",
    "# social and economic context attributes\n",
    "16 - emp.var.rate: employment variation rate - quarterly indicator (numeric)\n",
    "17 - cons.price.idx: consumer price index - monthly indicator (numeric)\n",
    "18 - cons.conf.idx: consumer confidence index - monthly indicator (numeric)\n",
    "19 - euribor3m: euribor 3 month rate - daily indicator (numeric)\n",
    "20 - nr.employed: number of employees - quarterly indicator (numeric)\n",
    "\n",
    "Output variable (desired target):\n",
    "21 - y - has the client subscribed a term deposit? (binary: 'yes','no')\n",
    "```\n",
    "\n"
   ]
  },
  {
   "cell_type": "markdown",
   "metadata": {},
   "source": [
    "### Problem 4: Understanding the Task\n",
    "\n",
    "After examining the description and data, your goal now is to clearly state the *Business Objective* of the task.  State the objective below."
   ]
  },
  {
   "cell_type": "code",
   "execution_count": 524,
   "metadata": {},
   "outputs": [
    {
     "data": {
      "text/plain": [
       "Index(['age', 'job', 'marital', 'education', 'default', 'housing', 'loan',\n",
       "       'contact', 'month', 'day_of_week', 'duration', 'campaign', 'pdays',\n",
       "       'previous', 'poutcome', 'emp.var.rate', 'cons.price.idx',\n",
       "       'cons.conf.idx', 'euribor3m', 'nr.employed', 'y'],\n",
       "      dtype='object')"
      ]
     },
     "execution_count": 524,
     "metadata": {},
     "output_type": "execute_result"
    }
   ],
   "source": [
    "df.columns"
   ]
  },
  {
   "cell_type": "code",
   "execution_count": 525,
   "metadata": {},
   "outputs": [
    {
     "data": {
      "text/plain": [
       "'the objective of the analysis is to identify set of potential customers based on the \\nfeatures collected in the database. '"
      ]
     },
     "execution_count": 525,
     "metadata": {},
     "output_type": "execute_result"
    }
   ],
   "source": [
    "'''the objective of the analysis is to identify set of potential customers based on the \n",
    "features collected in the database. '''"
   ]
  },
  {
   "cell_type": "markdown",
   "metadata": {},
   "source": [
    "### Problem 5: Engineering Features\n",
    "\n",
    "Now that you understand your business objective, we will build a basic model to get started.  Before we can do this, we must work to encode the data.  Using just the bank information features (columns 1 - 7), prepare the features and target column for modeling with appropriate encoding and transformations."
   ]
  },
  {
   "cell_type": "code",
   "execution_count": 526,
   "metadata": {},
   "outputs": [],
   "source": [
    "df['job'] = df['job'].map({'housemaid' : 1, 'services': 2, 'admin.':3, 'blue-collar':4, 'technician':5,\n",
    "       'retired':6, 'management':7, 'unemployed':8, 'self-employed':9, 'unknown':10,\n",
    "       'entrepreneur':11, 'student':12})\n",
    "df['marital'] = df['marital'].map({'married':2, 'single':1, 'divorced':3, 'unknown':4})\n",
    "df['education'] = df['education'].map({'basic.4y':1, 'high.school':2, 'basic.6y':3, 'basic.9y':4,'professional.course':5, 'unknown':8, 'university.degree':6,\\\n",
    "       'illiterate':7})\n",
    "df['default'] = df['default'].map({'no': 1, 'unknown':0, 'yes':2})\n",
    "df['housing'] = df['housing'].map({'no':1, 'yes':2, 'unknown':0})\n",
    "df['loan'] = df['loan'].map({'no':1, 'yes':2, 'unknown':0})\n",
    "df['contact'] = df['contact'].map({'telephone':0, 'cellular':1})\n",
    "df['month'] = df['month'].map({'may':5, 'jun':6, 'jul':7, 'aug':8, 'oct':10, 'nov':11, 'dec':12, 'mar':3, 'apr':4,'sep':9})\n",
    "df['day_of_week'] = df['day_of_week'].map({'mon':1, 'tue':2, 'wed':3, 'thu':4, 'fri':5})\n",
    "df['poutcome'] = df['poutcome'].map({'nonexistent':1, 'failure':2, 'success':3})\n",
    "df['y'] = df['y'].map({'no':0, 'yes':1})"
   ]
  },
  {
   "cell_type": "code",
   "execution_count": 527,
   "metadata": {},
   "outputs": [
    {
     "name": "stdout",
     "output_type": "stream",
     "text": [
      "<class 'pandas.core.frame.DataFrame'>\n",
      "RangeIndex: 41188 entries, 0 to 41187\n",
      "Data columns (total 21 columns):\n",
      " #   Column          Non-Null Count  Dtype  \n",
      "---  ------          --------------  -----  \n",
      " 0   age             41188 non-null  int64  \n",
      " 1   job             41188 non-null  int64  \n",
      " 2   marital         41188 non-null  int64  \n",
      " 3   education       41188 non-null  int64  \n",
      " 4   default         41188 non-null  int64  \n",
      " 5   housing         41188 non-null  int64  \n",
      " 6   loan            41188 non-null  int64  \n",
      " 7   contact         41188 non-null  int64  \n",
      " 8   month           41188 non-null  int64  \n",
      " 9   day_of_week     41188 non-null  int64  \n",
      " 10  duration        41188 non-null  int64  \n",
      " 11  campaign        41188 non-null  int64  \n",
      " 12  pdays           41188 non-null  int64  \n",
      " 13  previous        41188 non-null  int64  \n",
      " 14  poutcome        41188 non-null  int64  \n",
      " 15  emp.var.rate    41188 non-null  float64\n",
      " 16  cons.price.idx  41188 non-null  float64\n",
      " 17  cons.conf.idx   41188 non-null  float64\n",
      " 18  euribor3m       41188 non-null  float64\n",
      " 19  nr.employed     41188 non-null  float64\n",
      " 20  y               41188 non-null  int64  \n",
      "dtypes: float64(5), int64(16)\n",
      "memory usage: 6.6 MB\n"
     ]
    }
   ],
   "source": [
    "df.info()"
   ]
  },
  {
   "cell_type": "code",
   "execution_count": 528,
   "metadata": {},
   "outputs": [],
   "source": [
    "y = df['y']"
   ]
  },
  {
   "cell_type": "code",
   "execution_count": 529,
   "metadata": {},
   "outputs": [
    {
     "data": {
      "text/html": [
       "<div>\n",
       "<style scoped>\n",
       "    .dataframe tbody tr th:only-of-type {\n",
       "        vertical-align: middle;\n",
       "    }\n",
       "\n",
       "    .dataframe tbody tr th {\n",
       "        vertical-align: top;\n",
       "    }\n",
       "\n",
       "    .dataframe thead th {\n",
       "        text-align: right;\n",
       "    }\n",
       "</style>\n",
       "<table border=\"1\" class=\"dataframe\">\n",
       "  <thead>\n",
       "    <tr style=\"text-align: right;\">\n",
       "      <th></th>\n",
       "      <th>age</th>\n",
       "      <th>job</th>\n",
       "      <th>marital</th>\n",
       "      <th>education</th>\n",
       "      <th>default</th>\n",
       "      <th>housing</th>\n",
       "      <th>loan</th>\n",
       "      <th>contact</th>\n",
       "      <th>month</th>\n",
       "      <th>day_of_week</th>\n",
       "      <th>duration</th>\n",
       "      <th>campaign</th>\n",
       "      <th>pdays</th>\n",
       "      <th>previous</th>\n",
       "      <th>poutcome</th>\n",
       "      <th>emp.var.rate</th>\n",
       "      <th>cons.price.idx</th>\n",
       "      <th>cons.conf.idx</th>\n",
       "      <th>euribor3m</th>\n",
       "      <th>nr.employed</th>\n",
       "    </tr>\n",
       "  </thead>\n",
       "  <tbody>\n",
       "    <tr>\n",
       "      <th>age</th>\n",
       "      <td>1.000000</td>\n",
       "      <td>0.030413</td>\n",
       "      <td>0.388687</td>\n",
       "      <td>-0.071575</td>\n",
       "      <td>-0.164910</td>\n",
       "      <td>-0.000987</td>\n",
       "      <td>-0.006048</td>\n",
       "      <td>-0.007021</td>\n",
       "      <td>0.077265</td>\n",
       "      <td>-0.018486</td>\n",
       "      <td>-0.000866</td>\n",
       "      <td>0.004594</td>\n",
       "      <td>-0.034369</td>\n",
       "      <td>0.024365</td>\n",
       "      <td>0.026371</td>\n",
       "      <td>-0.000371</td>\n",
       "      <td>0.000857</td>\n",
       "      <td>0.129372</td>\n",
       "      <td>0.010767</td>\n",
       "      <td>-0.017725</td>\n",
       "    </tr>\n",
       "    <tr>\n",
       "      <th>job</th>\n",
       "      <td>0.030413</td>\n",
       "      <td>1.000000</td>\n",
       "      <td>-0.029137</td>\n",
       "      <td>0.176296</td>\n",
       "      <td>0.012964</td>\n",
       "      <td>0.003577</td>\n",
       "      <td>-0.008555</td>\n",
       "      <td>0.017054</td>\n",
       "      <td>0.055813</td>\n",
       "      <td>-0.001608</td>\n",
       "      <td>0.009575</td>\n",
       "      <td>-0.017085</td>\n",
       "      <td>-0.051677</td>\n",
       "      <td>0.051348</td>\n",
       "      <td>0.049070</td>\n",
       "      <td>-0.083007</td>\n",
       "      <td>-0.046067</td>\n",
       "      <td>0.022933</td>\n",
       "      <td>-0.072497</td>\n",
       "      <td>-0.084981</td>\n",
       "    </tr>\n",
       "    <tr>\n",
       "      <th>marital</th>\n",
       "      <td>0.388687</td>\n",
       "      <td>-0.029137</td>\n",
       "      <td>1.000000</td>\n",
       "      <td>-0.072002</td>\n",
       "      <td>-0.076823</td>\n",
       "      <td>-0.012250</td>\n",
       "      <td>-0.006412</td>\n",
       "      <td>-0.053576</td>\n",
       "      <td>0.016981</td>\n",
       "      <td>-0.014350</td>\n",
       "      <td>-0.007585</td>\n",
       "      <td>0.010060</td>\n",
       "      <td>0.036082</td>\n",
       "      <td>-0.035932</td>\n",
       "      <td>-0.036995</td>\n",
       "      <td>0.081460</td>\n",
       "      <td>0.054981</td>\n",
       "      <td>0.032792</td>\n",
       "      <td>0.089356</td>\n",
       "      <td>0.084199</td>\n",
       "    </tr>\n",
       "    <tr>\n",
       "      <th>education</th>\n",
       "      <td>-0.071575</td>\n",
       "      <td>0.176296</td>\n",
       "      <td>-0.072002</td>\n",
       "      <td>1.000000</td>\n",
       "      <td>0.115766</td>\n",
       "      <td>0.015750</td>\n",
       "      <td>0.006440</td>\n",
       "      <td>0.077727</td>\n",
       "      <td>0.096163</td>\n",
       "      <td>0.011627</td>\n",
       "      <td>-0.012820</td>\n",
       "      <td>-0.001004</td>\n",
       "      <td>-0.034513</td>\n",
       "      <td>0.024100</td>\n",
       "      <td>0.025013</td>\n",
       "      <td>-0.027154</td>\n",
       "      <td>-0.060767</td>\n",
       "      <td>0.068339</td>\n",
       "      <td>-0.020330</td>\n",
       "      <td>-0.024826</td>\n",
       "    </tr>\n",
       "    <tr>\n",
       "      <th>default</th>\n",
       "      <td>-0.164910</td>\n",
       "      <td>0.012964</td>\n",
       "      <td>-0.076823</td>\n",
       "      <td>0.115766</td>\n",
       "      <td>1.000000</td>\n",
       "      <td>0.017429</td>\n",
       "      <td>0.007792</td>\n",
       "      <td>0.135698</td>\n",
       "      <td>0.084984</td>\n",
       "      <td>0.003915</td>\n",
       "      <td>0.011478</td>\n",
       "      <td>-0.033077</td>\n",
       "      <td>-0.079987</td>\n",
       "      <td>0.102630</td>\n",
       "      <td>0.108394</td>\n",
       "      <td>-0.203061</td>\n",
       "      <td>-0.168335</td>\n",
       "      <td>-0.026249</td>\n",
       "      <td>-0.195079</td>\n",
       "      <td>-0.189544</td>\n",
       "    </tr>\n",
       "    <tr>\n",
       "      <th>housing</th>\n",
       "      <td>-0.000987</td>\n",
       "      <td>0.003577</td>\n",
       "      <td>-0.012250</td>\n",
       "      <td>0.015750</td>\n",
       "      <td>0.017429</td>\n",
       "      <td>1.000000</td>\n",
       "      <td>0.228650</td>\n",
       "      <td>0.083498</td>\n",
       "      <td>0.033748</td>\n",
       "      <td>-0.009221</td>\n",
       "      <td>-0.004850</td>\n",
       "      <td>-0.009768</td>\n",
       "      <td>-0.010376</td>\n",
       "      <td>0.017647</td>\n",
       "      <td>0.021599</td>\n",
       "      <td>-0.055645</td>\n",
       "      <td>-0.079528</td>\n",
       "      <td>-0.033586</td>\n",
       "      <td>-0.054698</td>\n",
       "      <td>-0.040855</td>\n",
       "    </tr>\n",
       "    <tr>\n",
       "      <th>loan</th>\n",
       "      <td>-0.006048</td>\n",
       "      <td>-0.008555</td>\n",
       "      <td>-0.006412</td>\n",
       "      <td>0.006440</td>\n",
       "      <td>0.007792</td>\n",
       "      <td>0.228650</td>\n",
       "      <td>1.000000</td>\n",
       "      <td>0.020520</td>\n",
       "      <td>0.003029</td>\n",
       "      <td>0.000662</td>\n",
       "      <td>0.001987</td>\n",
       "      <td>0.004908</td>\n",
       "      <td>-0.000857</td>\n",
       "      <td>-0.003371</td>\n",
       "      <td>-0.000181</td>\n",
       "      <td>-0.000138</td>\n",
       "      <td>-0.011616</td>\n",
       "      <td>-0.015059</td>\n",
       "      <td>-0.001540</td>\n",
       "      <td>0.004260</td>\n",
       "    </tr>\n",
       "    <tr>\n",
       "      <th>contact</th>\n",
       "      <td>-0.007021</td>\n",
       "      <td>0.017054</td>\n",
       "      <td>-0.053576</td>\n",
       "      <td>0.077727</td>\n",
       "      <td>0.135698</td>\n",
       "      <td>0.083498</td>\n",
       "      <td>0.020520</td>\n",
       "      <td>1.000000</td>\n",
       "      <td>0.324315</td>\n",
       "      <td>-0.019583</td>\n",
       "      <td>0.026657</td>\n",
       "      <td>-0.077368</td>\n",
       "      <td>-0.117970</td>\n",
       "      <td>0.212848</td>\n",
       "      <td>0.226813</td>\n",
       "      <td>-0.393584</td>\n",
       "      <td>-0.591474</td>\n",
       "      <td>-0.251614</td>\n",
       "      <td>-0.399773</td>\n",
       "      <td>-0.269155</td>\n",
       "    </tr>\n",
       "    <tr>\n",
       "      <th>month</th>\n",
       "      <td>0.077265</td>\n",
       "      <td>0.055813</td>\n",
       "      <td>0.016981</td>\n",
       "      <td>0.096163</td>\n",
       "      <td>0.084984</td>\n",
       "      <td>0.033748</td>\n",
       "      <td>0.003029</td>\n",
       "      <td>0.324315</td>\n",
       "      <td>1.000000</td>\n",
       "      <td>-0.006959</td>\n",
       "      <td>-0.019302</td>\n",
       "      <td>-0.030635</td>\n",
       "      <td>-0.079556</td>\n",
       "      <td>0.063754</td>\n",
       "      <td>0.060841</td>\n",
       "      <td>0.058874</td>\n",
       "      <td>-0.150350</td>\n",
       "      <td>0.264227</td>\n",
       "      <td>0.163411</td>\n",
       "      <td>0.132697</td>\n",
       "    </tr>\n",
       "    <tr>\n",
       "      <th>day_of_week</th>\n",
       "      <td>-0.018486</td>\n",
       "      <td>-0.001608</td>\n",
       "      <td>-0.014350</td>\n",
       "      <td>0.011627</td>\n",
       "      <td>0.003915</td>\n",
       "      <td>-0.009221</td>\n",
       "      <td>0.000662</td>\n",
       "      <td>-0.019583</td>\n",
       "      <td>-0.006959</td>\n",
       "      <td>1.000000</td>\n",
       "      <td>0.010549</td>\n",
       "      <td>0.015098</td>\n",
       "      <td>0.006765</td>\n",
       "      <td>0.004013</td>\n",
       "      <td>0.003279</td>\n",
       "      <td>-0.004401</td>\n",
       "      <td>-0.004586</td>\n",
       "      <td>-0.000099</td>\n",
       "      <td>-0.005552</td>\n",
       "      <td>-0.000734</td>\n",
       "    </tr>\n",
       "    <tr>\n",
       "      <th>duration</th>\n",
       "      <td>-0.000866</td>\n",
       "      <td>0.009575</td>\n",
       "      <td>-0.007585</td>\n",
       "      <td>-0.012820</td>\n",
       "      <td>0.011478</td>\n",
       "      <td>-0.004850</td>\n",
       "      <td>0.001987</td>\n",
       "      <td>0.026657</td>\n",
       "      <td>-0.019302</td>\n",
       "      <td>0.010549</td>\n",
       "      <td>1.000000</td>\n",
       "      <td>-0.071699</td>\n",
       "      <td>-0.047577</td>\n",
       "      <td>0.020640</td>\n",
       "      <td>0.026465</td>\n",
       "      <td>-0.027968</td>\n",
       "      <td>0.005312</td>\n",
       "      <td>-0.008173</td>\n",
       "      <td>-0.032897</td>\n",
       "      <td>-0.044703</td>\n",
       "    </tr>\n",
       "    <tr>\n",
       "      <th>campaign</th>\n",
       "      <td>0.004594</td>\n",
       "      <td>-0.017085</td>\n",
       "      <td>0.010060</td>\n",
       "      <td>-0.001004</td>\n",
       "      <td>-0.033077</td>\n",
       "      <td>-0.009768</td>\n",
       "      <td>0.004908</td>\n",
       "      <td>-0.077368</td>\n",
       "      <td>-0.030635</td>\n",
       "      <td>0.015098</td>\n",
       "      <td>-0.071699</td>\n",
       "      <td>1.000000</td>\n",
       "      <td>0.052584</td>\n",
       "      <td>-0.079141</td>\n",
       "      <td>-0.086083</td>\n",
       "      <td>0.150754</td>\n",
       "      <td>0.127836</td>\n",
       "      <td>-0.013733</td>\n",
       "      <td>0.135133</td>\n",
       "      <td>0.144095</td>\n",
       "    </tr>\n",
       "    <tr>\n",
       "      <th>pdays</th>\n",
       "      <td>-0.034369</td>\n",
       "      <td>-0.051677</td>\n",
       "      <td>0.036082</td>\n",
       "      <td>-0.034513</td>\n",
       "      <td>-0.079987</td>\n",
       "      <td>-0.010376</td>\n",
       "      <td>-0.000857</td>\n",
       "      <td>-0.117970</td>\n",
       "      <td>-0.079556</td>\n",
       "      <td>0.006765</td>\n",
       "      <td>-0.047577</td>\n",
       "      <td>0.052584</td>\n",
       "      <td>1.000000</td>\n",
       "      <td>-0.587514</td>\n",
       "      <td>-0.744679</td>\n",
       "      <td>0.271004</td>\n",
       "      <td>0.078889</td>\n",
       "      <td>-0.091342</td>\n",
       "      <td>0.296899</td>\n",
       "      <td>0.372605</td>\n",
       "    </tr>\n",
       "    <tr>\n",
       "      <th>previous</th>\n",
       "      <td>0.024365</td>\n",
       "      <td>0.051348</td>\n",
       "      <td>-0.035932</td>\n",
       "      <td>0.024100</td>\n",
       "      <td>0.102630</td>\n",
       "      <td>0.017647</td>\n",
       "      <td>-0.003371</td>\n",
       "      <td>0.212848</td>\n",
       "      <td>0.063754</td>\n",
       "      <td>0.004013</td>\n",
       "      <td>0.020640</td>\n",
       "      <td>-0.079141</td>\n",
       "      <td>-0.587514</td>\n",
       "      <td>1.000000</td>\n",
       "      <td>0.868540</td>\n",
       "      <td>-0.420489</td>\n",
       "      <td>-0.203130</td>\n",
       "      <td>-0.050936</td>\n",
       "      <td>-0.454494</td>\n",
       "      <td>-0.501333</td>\n",
       "    </tr>\n",
       "    <tr>\n",
       "      <th>poutcome</th>\n",
       "      <td>0.026371</td>\n",
       "      <td>0.049070</td>\n",
       "      <td>-0.036995</td>\n",
       "      <td>0.025013</td>\n",
       "      <td>0.108394</td>\n",
       "      <td>0.021599</td>\n",
       "      <td>-0.000181</td>\n",
       "      <td>0.226813</td>\n",
       "      <td>0.060841</td>\n",
       "      <td>0.003279</td>\n",
       "      <td>0.026465</td>\n",
       "      <td>-0.086083</td>\n",
       "      <td>-0.744679</td>\n",
       "      <td>0.868540</td>\n",
       "      <td>1.000000</td>\n",
       "      <td>-0.457197</td>\n",
       "      <td>-0.259746</td>\n",
       "      <td>-0.041728</td>\n",
       "      <td>-0.478687</td>\n",
       "      <td>-0.509597</td>\n",
       "    </tr>\n",
       "    <tr>\n",
       "      <th>emp.var.rate</th>\n",
       "      <td>-0.000371</td>\n",
       "      <td>-0.083007</td>\n",
       "      <td>0.081460</td>\n",
       "      <td>-0.027154</td>\n",
       "      <td>-0.203061</td>\n",
       "      <td>-0.055645</td>\n",
       "      <td>-0.000138</td>\n",
       "      <td>-0.393584</td>\n",
       "      <td>0.058874</td>\n",
       "      <td>-0.004401</td>\n",
       "      <td>-0.027968</td>\n",
       "      <td>0.150754</td>\n",
       "      <td>0.271004</td>\n",
       "      <td>-0.420489</td>\n",
       "      <td>-0.457197</td>\n",
       "      <td>1.000000</td>\n",
       "      <td>0.775334</td>\n",
       "      <td>0.196041</td>\n",
       "      <td>0.972245</td>\n",
       "      <td>0.906970</td>\n",
       "    </tr>\n",
       "    <tr>\n",
       "      <th>cons.price.idx</th>\n",
       "      <td>0.000857</td>\n",
       "      <td>-0.046067</td>\n",
       "      <td>0.054981</td>\n",
       "      <td>-0.060767</td>\n",
       "      <td>-0.168335</td>\n",
       "      <td>-0.079528</td>\n",
       "      <td>-0.011616</td>\n",
       "      <td>-0.591474</td>\n",
       "      <td>-0.150350</td>\n",
       "      <td>-0.004586</td>\n",
       "      <td>0.005312</td>\n",
       "      <td>0.127836</td>\n",
       "      <td>0.078889</td>\n",
       "      <td>-0.203130</td>\n",
       "      <td>-0.259746</td>\n",
       "      <td>0.775334</td>\n",
       "      <td>1.000000</td>\n",
       "      <td>0.058986</td>\n",
       "      <td>0.688230</td>\n",
       "      <td>0.522034</td>\n",
       "    </tr>\n",
       "    <tr>\n",
       "      <th>cons.conf.idx</th>\n",
       "      <td>0.129372</td>\n",
       "      <td>0.022933</td>\n",
       "      <td>0.032792</td>\n",
       "      <td>0.068339</td>\n",
       "      <td>-0.026249</td>\n",
       "      <td>-0.033586</td>\n",
       "      <td>-0.015059</td>\n",
       "      <td>-0.251614</td>\n",
       "      <td>0.264227</td>\n",
       "      <td>-0.000099</td>\n",
       "      <td>-0.008173</td>\n",
       "      <td>-0.013733</td>\n",
       "      <td>-0.091342</td>\n",
       "      <td>-0.050936</td>\n",
       "      <td>-0.041728</td>\n",
       "      <td>0.196041</td>\n",
       "      <td>0.058986</td>\n",
       "      <td>1.000000</td>\n",
       "      <td>0.277686</td>\n",
       "      <td>0.100513</td>\n",
       "    </tr>\n",
       "    <tr>\n",
       "      <th>euribor3m</th>\n",
       "      <td>0.010767</td>\n",
       "      <td>-0.072497</td>\n",
       "      <td>0.089356</td>\n",
       "      <td>-0.020330</td>\n",
       "      <td>-0.195079</td>\n",
       "      <td>-0.054698</td>\n",
       "      <td>-0.001540</td>\n",
       "      <td>-0.399773</td>\n",
       "      <td>0.163411</td>\n",
       "      <td>-0.005552</td>\n",
       "      <td>-0.032897</td>\n",
       "      <td>0.135133</td>\n",
       "      <td>0.296899</td>\n",
       "      <td>-0.454494</td>\n",
       "      <td>-0.478687</td>\n",
       "      <td>0.972245</td>\n",
       "      <td>0.688230</td>\n",
       "      <td>0.277686</td>\n",
       "      <td>1.000000</td>\n",
       "      <td>0.945154</td>\n",
       "    </tr>\n",
       "    <tr>\n",
       "      <th>nr.employed</th>\n",
       "      <td>-0.017725</td>\n",
       "      <td>-0.084981</td>\n",
       "      <td>0.084199</td>\n",
       "      <td>-0.024826</td>\n",
       "      <td>-0.189544</td>\n",
       "      <td>-0.040855</td>\n",
       "      <td>0.004260</td>\n",
       "      <td>-0.269155</td>\n",
       "      <td>0.132697</td>\n",
       "      <td>-0.000734</td>\n",
       "      <td>-0.044703</td>\n",
       "      <td>0.144095</td>\n",
       "      <td>0.372605</td>\n",
       "      <td>-0.501333</td>\n",
       "      <td>-0.509597</td>\n",
       "      <td>0.906970</td>\n",
       "      <td>0.522034</td>\n",
       "      <td>0.100513</td>\n",
       "      <td>0.945154</td>\n",
       "      <td>1.000000</td>\n",
       "    </tr>\n",
       "  </tbody>\n",
       "</table>\n",
       "</div>"
      ],
      "text/plain": [
       "                     age       job   marital  education   default   housing  \\\n",
       "age             1.000000  0.030413  0.388687  -0.071575 -0.164910 -0.000987   \n",
       "job             0.030413  1.000000 -0.029137   0.176296  0.012964  0.003577   \n",
       "marital         0.388687 -0.029137  1.000000  -0.072002 -0.076823 -0.012250   \n",
       "education      -0.071575  0.176296 -0.072002   1.000000  0.115766  0.015750   \n",
       "default        -0.164910  0.012964 -0.076823   0.115766  1.000000  0.017429   \n",
       "housing        -0.000987  0.003577 -0.012250   0.015750  0.017429  1.000000   \n",
       "loan           -0.006048 -0.008555 -0.006412   0.006440  0.007792  0.228650   \n",
       "contact        -0.007021  0.017054 -0.053576   0.077727  0.135698  0.083498   \n",
       "month           0.077265  0.055813  0.016981   0.096163  0.084984  0.033748   \n",
       "day_of_week    -0.018486 -0.001608 -0.014350   0.011627  0.003915 -0.009221   \n",
       "duration       -0.000866  0.009575 -0.007585  -0.012820  0.011478 -0.004850   \n",
       "campaign        0.004594 -0.017085  0.010060  -0.001004 -0.033077 -0.009768   \n",
       "pdays          -0.034369 -0.051677  0.036082  -0.034513 -0.079987 -0.010376   \n",
       "previous        0.024365  0.051348 -0.035932   0.024100  0.102630  0.017647   \n",
       "poutcome        0.026371  0.049070 -0.036995   0.025013  0.108394  0.021599   \n",
       "emp.var.rate   -0.000371 -0.083007  0.081460  -0.027154 -0.203061 -0.055645   \n",
       "cons.price.idx  0.000857 -0.046067  0.054981  -0.060767 -0.168335 -0.079528   \n",
       "cons.conf.idx   0.129372  0.022933  0.032792   0.068339 -0.026249 -0.033586   \n",
       "euribor3m       0.010767 -0.072497  0.089356  -0.020330 -0.195079 -0.054698   \n",
       "nr.employed    -0.017725 -0.084981  0.084199  -0.024826 -0.189544 -0.040855   \n",
       "\n",
       "                    loan   contact     month  day_of_week  duration  campaign  \\\n",
       "age            -0.006048 -0.007021  0.077265    -0.018486 -0.000866  0.004594   \n",
       "job            -0.008555  0.017054  0.055813    -0.001608  0.009575 -0.017085   \n",
       "marital        -0.006412 -0.053576  0.016981    -0.014350 -0.007585  0.010060   \n",
       "education       0.006440  0.077727  0.096163     0.011627 -0.012820 -0.001004   \n",
       "default         0.007792  0.135698  0.084984     0.003915  0.011478 -0.033077   \n",
       "housing         0.228650  0.083498  0.033748    -0.009221 -0.004850 -0.009768   \n",
       "loan            1.000000  0.020520  0.003029     0.000662  0.001987  0.004908   \n",
       "contact         0.020520  1.000000  0.324315    -0.019583  0.026657 -0.077368   \n",
       "month           0.003029  0.324315  1.000000    -0.006959 -0.019302 -0.030635   \n",
       "day_of_week     0.000662 -0.019583 -0.006959     1.000000  0.010549  0.015098   \n",
       "duration        0.001987  0.026657 -0.019302     0.010549  1.000000 -0.071699   \n",
       "campaign        0.004908 -0.077368 -0.030635     0.015098 -0.071699  1.000000   \n",
       "pdays          -0.000857 -0.117970 -0.079556     0.006765 -0.047577  0.052584   \n",
       "previous       -0.003371  0.212848  0.063754     0.004013  0.020640 -0.079141   \n",
       "poutcome       -0.000181  0.226813  0.060841     0.003279  0.026465 -0.086083   \n",
       "emp.var.rate   -0.000138 -0.393584  0.058874    -0.004401 -0.027968  0.150754   \n",
       "cons.price.idx -0.011616 -0.591474 -0.150350    -0.004586  0.005312  0.127836   \n",
       "cons.conf.idx  -0.015059 -0.251614  0.264227    -0.000099 -0.008173 -0.013733   \n",
       "euribor3m      -0.001540 -0.399773  0.163411    -0.005552 -0.032897  0.135133   \n",
       "nr.employed     0.004260 -0.269155  0.132697    -0.000734 -0.044703  0.144095   \n",
       "\n",
       "                   pdays  previous  poutcome  emp.var.rate  cons.price.idx  \\\n",
       "age            -0.034369  0.024365  0.026371     -0.000371        0.000857   \n",
       "job            -0.051677  0.051348  0.049070     -0.083007       -0.046067   \n",
       "marital         0.036082 -0.035932 -0.036995      0.081460        0.054981   \n",
       "education      -0.034513  0.024100  0.025013     -0.027154       -0.060767   \n",
       "default        -0.079987  0.102630  0.108394     -0.203061       -0.168335   \n",
       "housing        -0.010376  0.017647  0.021599     -0.055645       -0.079528   \n",
       "loan           -0.000857 -0.003371 -0.000181     -0.000138       -0.011616   \n",
       "contact        -0.117970  0.212848  0.226813     -0.393584       -0.591474   \n",
       "month          -0.079556  0.063754  0.060841      0.058874       -0.150350   \n",
       "day_of_week     0.006765  0.004013  0.003279     -0.004401       -0.004586   \n",
       "duration       -0.047577  0.020640  0.026465     -0.027968        0.005312   \n",
       "campaign        0.052584 -0.079141 -0.086083      0.150754        0.127836   \n",
       "pdays           1.000000 -0.587514 -0.744679      0.271004        0.078889   \n",
       "previous       -0.587514  1.000000  0.868540     -0.420489       -0.203130   \n",
       "poutcome       -0.744679  0.868540  1.000000     -0.457197       -0.259746   \n",
       "emp.var.rate    0.271004 -0.420489 -0.457197      1.000000        0.775334   \n",
       "cons.price.idx  0.078889 -0.203130 -0.259746      0.775334        1.000000   \n",
       "cons.conf.idx  -0.091342 -0.050936 -0.041728      0.196041        0.058986   \n",
       "euribor3m       0.296899 -0.454494 -0.478687      0.972245        0.688230   \n",
       "nr.employed     0.372605 -0.501333 -0.509597      0.906970        0.522034   \n",
       "\n",
       "                cons.conf.idx  euribor3m  nr.employed  \n",
       "age                  0.129372   0.010767    -0.017725  \n",
       "job                  0.022933  -0.072497    -0.084981  \n",
       "marital              0.032792   0.089356     0.084199  \n",
       "education            0.068339  -0.020330    -0.024826  \n",
       "default             -0.026249  -0.195079    -0.189544  \n",
       "housing             -0.033586  -0.054698    -0.040855  \n",
       "loan                -0.015059  -0.001540     0.004260  \n",
       "contact             -0.251614  -0.399773    -0.269155  \n",
       "month                0.264227   0.163411     0.132697  \n",
       "day_of_week         -0.000099  -0.005552    -0.000734  \n",
       "duration            -0.008173  -0.032897    -0.044703  \n",
       "campaign            -0.013733   0.135133     0.144095  \n",
       "pdays               -0.091342   0.296899     0.372605  \n",
       "previous            -0.050936  -0.454494    -0.501333  \n",
       "poutcome            -0.041728  -0.478687    -0.509597  \n",
       "emp.var.rate         0.196041   0.972245     0.906970  \n",
       "cons.price.idx       0.058986   0.688230     0.522034  \n",
       "cons.conf.idx        1.000000   0.277686     0.100513  \n",
       "euribor3m            0.277686   1.000000     0.945154  \n",
       "nr.employed          0.100513   0.945154     1.000000  "
      ]
     },
     "execution_count": 529,
     "metadata": {},
     "output_type": "execute_result"
    }
   ],
   "source": [
    "X = df.drop(columns=['y'])\n",
    "X.corr()"
   ]
  },
  {
   "cell_type": "code",
   "execution_count": 530,
   "metadata": {},
   "outputs": [
    {
     "data": {
      "text/plain": [
       "<AxesSubplot:>"
      ]
     },
     "execution_count": 530,
     "metadata": {},
     "output_type": "execute_result"
    },
    {
     "data": {
      "image/png": "[encoded data removed]",
      "text/plain": [
       "<Figure size 432x288 with 2 Axes>"
      ]
     },
     "metadata": {
      "needs_background": "light"
     },
     "output_type": "display_data"
    }
   ],
   "source": [
    "sns.heatmap(X)"
   ]
  },
  {
   "cell_type": "code",
   "execution_count": 531,
   "metadata": {},
   "outputs": [
    {
     "name": "stdout",
     "output_type": "stream",
     "text": [
      "<class 'pandas.core.frame.DataFrame'>\n",
      "RangeIndex: 41188 entries, 0 to 41187\n",
      "Data columns (total 20 columns):\n",
      " #   Column          Non-Null Count  Dtype  \n",
      "---  ------          --------------  -----  \n",
      " 0   age             41188 non-null  int64  \n",
      " 1   job             41188 non-null  int64  \n",
      " 2   marital         41188 non-null  int64  \n",
      " 3   education       41188 non-null  int64  \n",
      " 4   default         41188 non-null  int64  \n",
      " 5   housing         41188 non-null  int64  \n",
      " 6   loan            41188 non-null  int64  \n",
      " 7   contact         41188 non-null  int64  \n",
      " 8   month           41188 non-null  int64  \n",
      " 9   day_of_week     41188 non-null  int64  \n",
      " 10  duration        41188 non-null  int64  \n",
      " 11  campaign        41188 non-null  int64  \n",
      " 12  pdays           41188 non-null  int64  \n",
      " 13  previous        41188 non-null  int64  \n",
      " 14  poutcome        41188 non-null  int64  \n",
      " 15  emp.var.rate    41188 non-null  float64\n",
      " 16  cons.price.idx  41188 non-null  float64\n",
      " 17  cons.conf.idx   41188 non-null  float64\n",
      " 18  euribor3m       41188 non-null  float64\n",
      " 19  nr.employed     41188 non-null  float64\n",
      "dtypes: float64(5), int64(15)\n",
      "memory usage: 6.3 MB\n"
     ]
    }
   ],
   "source": [
    "X.info()"
   ]
  },
  {
   "cell_type": "code",
   "execution_count": 532,
   "metadata": {},
   "outputs": [],
   "source": [
    "df_scale = StandardScaler().fit_transform(X,y)\n",
    "col = df.columns[:-1]\n",
    "#col[:-1]\n",
    "X = pd.DataFrame(df_scale, columns = col)"
   ]
  },
  {
   "cell_type": "markdown",
   "metadata": {},
   "source": [
    "### Problem 6: Train/Test Split\n",
    "\n",
    "With your data prepared, split it into a train and test set."
   ]
  },
  {
   "cell_type": "code",
   "execution_count": 533,
   "metadata": {},
   "outputs": [],
   "source": [
    "X_train, X_test, y_train, y_test = train_test_split(X,y, test_size= 0.2, random_state= 42)"
   ]
  },
  {
   "cell_type": "markdown",
   "metadata": {},
   "source": [
    "### Problem 7: A Baseline Model\n",
    "\n",
    "Before we build our first model, we want to establish a baseline.  What is the baseline performance that our classifier should aim to beat?"
   ]
  },
  {
   "cell_type": "code",
   "execution_count": null,
   "metadata": {},
   "outputs": [],
   "source": []
  },
  {
   "cell_type": "code",
   "execution_count": null,
   "metadata": {},
   "outputs": [],
   "source": []
  },
  {
   "cell_type": "code",
   "execution_count": null,
   "metadata": {},
   "outputs": [],
   "source": []
  },
  {
   "cell_type": "markdown",
   "metadata": {},
   "source": [
    "### Problem 8: A Simple Model\n",
    "\n",
    "Use Logistic Regression to build a basic model on your data.  "
   ]
  },
  {
   "cell_type": "code",
   "execution_count": 534,
   "metadata": {},
   "outputs": [
    {
     "name": "stdout",
     "output_type": "stream",
     "text": [
      "LR fit time 0.6890232563018799\n"
     ]
    }
   ],
   "source": [
    "lr_t0 = time.time()\n",
    "lg_reg = LogisticRegression(penalty= 'elasticnet' , max_iter= 1000, random_state= 42, solver= 'saga', l1_ratio= 0.5).fit(X_train,y_train)\n",
    "print('LR fit time', time.time()-lr_t0)"
   ]
  },
  {
   "cell_type": "markdown",
   "metadata": {},
   "source": [
    "### Problem 9: Score the Model\n",
    "\n",
    "What is the accuracy of your model?"
   ]
  },
  {
   "cell_type": "code",
   "execution_count": 535,
   "metadata": {},
   "outputs": [
    {
     "name": "stdout",
     "output_type": "stream",
     "text": [
      "{'lg_Test_Accuracy': 0.9082301529497451}\n",
      "{'lg_g1': 0.4973404255319149}\n",
      "{'lg_scorePre': 0.6572934973637962}\n",
      "{'lg_scoreAcc': 0.9082301529497451}\n",
      "time to predict : 0.004115104675292969\n",
      "lg_train_Accuracy :  0.910288315629742\n"
     ]
    }
   ],
   "source": [
    "lr_t1 = time.time()\n",
    "lg_ypred = lg_reg.predict(X_test)\n",
    "lg_tpred = time.time() - lr_t1\n",
    "lg_trainpred = lg_reg.predict(X_train)\n",
    "lg_trainAcc = accuracy_score(lg_trainpred, y_train)\n",
    "lg_Accuracy = accuracy_score(lg_ypred, y_test)\n",
    "lg_f1 = f1_score(y_test,lg_ypred,pos_label=1)\n",
    "lg_scorePre = precision_score(y_test, lg_ypred)\n",
    "lg_scoreAcc = accuracy_score(y_test, lg_ypred)\n",
    "print({'lg_Test_Accuracy':lg_Accuracy})\n",
    "print({'lg_g1': lg_f1})\n",
    "print({'lg_scorePre': lg_scorePre})\n",
    "print({'lg_scoreAcc': lg_scoreAcc})\n",
    "print('time to predict :', lg_tpred)\n",
    "print('lg_train_Accuracy : ', lg_trainAcc)"
   ]
  },
  {
   "cell_type": "code",
   "execution_count": 536,
   "metadata": {},
   "outputs": [
    {
     "name": "stderr",
     "output_type": "stream",
     "text": [
      "/opt/anaconda3/lib/python3.9/site-packages/sklearn/utils/deprecation.py:87: FutureWarning: Function plot_confusion_matrix is deprecated; Function `plot_confusion_matrix` is deprecated in 1.0 and will be removed in 1.2. Use one of the class methods: ConfusionMatrixDisplay.from_predictions or ConfusionMatrixDisplay.from_estimator.\n",
      "  warnings.warn(msg, category=FutureWarning)\n"
     ]
    },
    {
     "data": {
      "text/plain": [
       "<sklearn.metrics._plot.confusion_matrix.ConfusionMatrixDisplay at 0x7f8692cf65b0>"
      ]
     },
     "execution_count": 536,
     "metadata": {},
     "output_type": "execute_result"
    },
    {
     "data": {
      "image/png": "[encoded data removed]",
      "text/plain": [
       "<Figure size 432x288 with 2 Axes>"
      ]
     },
     "metadata": {
      "needs_background": "light"
     },
     "output_type": "display_data"
    }
   ],
   "source": [
    "plot_confusion_matrix(lg_reg, X_test, y_test)"
   ]
  },
  {
   "cell_type": "code",
   "execution_count": 537,
   "metadata": {},
   "outputs": [
    {
     "name": "stdout",
     "output_type": "stream",
     "text": [
      "False Positive Rates:  [0.         0.02670136 1.        ]\n",
      "True Positive Rates:  [0.  0.4 1. ]\n"
     ]
    },
    {
     "data": {
      "image/png": "[encoded data removed]",
      "text/plain": [
       "<Figure size 432x288 with 1 Axes>"
      ]
     },
     "metadata": {
      "needs_background": "light"
     },
     "output_type": "display_data"
    }
   ],
   "source": [
    "fpr, tpr, thresroc = roc_curve(y_test, lg_ypred, pos_label= 1)\n",
    "print('False Positive Rates: ', fpr[:3])\n",
    "print('True Positive Rates: ', tpr[:5])\n",
    "plt.plot(fpr, tpr, '--o', label = 'roc curve')\n",
    "plt.plot(tpr, tpr, label = 'baseline')\n",
    "plt.legend()\n",
    "plt.title('ROC Curve')\n",
    "plt.xlabel('False Positive Rate')\n",
    "plt.ylabel('True Positive Rate')\n",
    "plt.grid();"
   ]
  },
  {
   "attachments": {},
   "cell_type": "markdown",
   "metadata": {},
   "source": [
    "KNN Classifier"
   ]
  },
  {
   "cell_type": "code",
   "execution_count": 540,
   "metadata": {},
   "outputs": [],
   "source": [
    "knn_t0 = time.time()\n",
    "df_knn = KNeighborsClassifier()\n",
    "param = dict(n_neighbors = list(range(1,21)))\n",
    "knn_grid = GridSearchCV(df_knn, param_grid= param, cv = 5, scoring= 'accuracy', verbose= 0)\n",
    "knn = knn_grid.fit(X_train, y_train)\n",
    "knn_fitTime = time.time()-knn_t0\n",
    "#print('knn fit time :', knn_fitTime )"
   ]
  },
  {
   "cell_type": "code",
   "execution_count": 478,
   "metadata": {},
   "outputs": [
    {
     "name": "stdout",
     "output_type": "stream",
     "text": [
      "4.816056966781616\n"
     ]
    }
   ],
   "source": [
    "knn_t1 = time.time()\n",
    "knn_ypred = knn_grid.predict(X_test)\n",
    "knn_tpred = time.time() - knn_t1\n",
    "knn_grid.score(X_test, y_test)\n",
    "print(knn_tpred)"
   ]
  },
  {
   "cell_type": "code",
   "execution_count": 479,
   "metadata": {},
   "outputs": [
    {
     "name": "stdout",
     "output_type": "stream",
     "text": [
      "0.9061608497723823\n"
     ]
    }
   ],
   "source": [
    "print(knn_grid.best_score_)"
   ]
  },
  {
   "cell_type": "code",
   "execution_count": 507,
   "metadata": {},
   "outputs": [
    {
     "name": "stdout",
     "output_type": "stream",
     "text": [
      "{'knn_Accuracy': 0.9032532168001942}\n",
      "{0.4632996632996633, 'knn_f1 :'}\n",
      "{0.6254545454545455, 'knn_scorePre :'}\n",
      "{0.9032532168001942, 'knn_scoreAcc :'}\n",
      "{0.9032532168001942, 'knn_train_Acc :'}\n"
     ]
    }
   ],
   "source": [
    "knn_Accuracy = accuracy_score(knn_ypred, y_test)\n",
    "knn_f1 = f1_score(y_test,knn_ypred,pos_label=1)\n",
    "knn_scorePre = precision_score(y_test, knn_ypred)\n",
    "knn_scoreAcc = accuracy_score(y_test, knn_ypred)\n",
    "knn_train_Acc = accuracy_score(knn_grid.predict(X_train), y_train)\n",
    "\n",
    "print({'knn_Accuracy':knn_Accuracy})\n",
    "print({'knn_f1 :', knn_f1})\n",
    "print({'knn_scorePre :', knn_scorePre})\n",
    "print({'knn_scoreAcc :', knn_scoreAcc})\n",
    "print({'knn_train_Acc :',  knn_scoreAcc})"
   ]
  },
  {
   "attachments": {},
   "cell_type": "markdown",
   "metadata": {},
   "source": [
    "Decision Tree Classifier"
   ]
  },
  {
   "cell_type": "code",
   "execution_count": 491,
   "metadata": {},
   "outputs": [
    {
     "name": "stdout",
     "output_type": "stream",
     "text": [
      "Fitting 5 folds for each of 90 candidates, totalling 450 fits\n",
      "0.905948406676783\n",
      "dtc_train :  8.902613639831543\n",
      "dtc_tpred :  0.0015380382537841797\n"
     ]
    }
   ],
   "source": [
    "dtc_t0 = time.time()\n",
    "dtc_param = {'max_features': ['auto', 'sqrt', 'log2'],\n",
    "              'ccp_alpha': [0.1, .01, .001],\n",
    "              'max_depth' : [5, 6, 7, 8, 9],\n",
    "              'criterion' :['gini', 'entropy']\n",
    "             }\n",
    "dtc = DecisionTreeClassifier(random_state= 42)\n",
    "dtc_grid = GridSearchCV(estimator = dtc, param_grid = dtc_param, cv = 5, verbose= True).fit(X_train, y_train)\n",
    "dtc_train = time.time() - dtc_t0\n",
    "dtc_t1 = time.time()\n",
    "dtc_ypred = dtc_grid.predict(X_test)\n",
    "dtc_tpred = time.time() - dtc_t1\n",
    "dtc_bscr = dtc_grid.best_score_\n",
    "print(dtc_bscr)\n",
    "\n",
    "print(f'dtc_train : ', dtc_train)\n",
    "print(f'dtc_tpred : ', dtc_tpred)\n",
    "#dtc_grid.score(y_test, dtc_ypred)\n"
   ]
  },
  {
   "cell_type": "code",
   "execution_count": 514,
   "metadata": {},
   "outputs": [
    {
     "name": "stdout",
     "output_type": "stream",
     "text": [
      "dtc_Accuracy: 0.8986404467103666\n",
      "dtc_train_Accuracy: 0.9057359635811836\n",
      "dtc_f1: 0.42925495557074506\n",
      "dtc_scorePre: 0.5946969696969697\n",
      "dtc_scoreAcc: 0.8986404467103666\n"
     ]
    }
   ],
   "source": [
    "dtc_test_Accuracy = accuracy_score(dtc_ypred, y_test)\n",
    "print('dtc_Accuracy:', dtc_Accuracy)\n",
    "\n",
    "dtc_train_Accuracy = accuracy_score(dtc_grid.predict(X_train), y_train)\n",
    "print('dtc_train_Accuracy:', dtc_train_Accuracy)\n",
    "\n",
    "dtc_f1 = f1_score(y_test,dtc_ypred,pos_label=1)\n",
    "print(f'dtc_f1:',  dtc_f1)\n",
    "\n",
    "dtc_scorePre = precision_score(y_test, dtc_ypred)\n",
    "print(f'dtc_scorePre:', dtc_scorePre)\n",
    "\n",
    "dtc_scoreAcc = accuracy_score(y_test, dtc_ypred)\n",
    "print(f'dtc_scoreAcc:', dtc_scoreAcc)"
   ]
  },
  {
   "cell_type": "code",
   "execution_count": 501,
   "metadata": {},
   "outputs": [
    {
     "name": "stdout",
     "output_type": "stream",
     "text": [
      "{'ccp_alpha': 0.001, 'criterion': 'entropy', 'max_depth': 7, 'max_features': 'auto'}\n"
     ]
    }
   ],
   "source": [
    "dtc_bparam = dtc_grid.best_params_\n",
    "print (dtc_bparam)"
   ]
  },
  {
   "attachments": {},
   "cell_type": "markdown",
   "metadata": {},
   "source": [
    "Support Vector Classifier"
   ]
  },
  {
   "cell_type": "code",
   "execution_count": 550,
   "metadata": {},
   "outputs": [
    {
     "name": "stdout",
     "output_type": "stream",
     "text": [
      "31.82844114303589\n"
     ]
    }
   ],
   "source": [
    "svc = SVC(kernel='linear', random_state= 42)\n",
    "svc_t0 = time.time()\n",
    "pred_svc = svc.fit(X_train, y_train)\n",
    "svc_pred_time = time.time()-svc_t0\n",
    "print(svc_pred_time)\n",
    "svc_ypred = svc.predict(X_test)\n",
    "svc_train_pred = svc.predict(X_train)"
   ]
  },
  {
   "cell_type": "code",
   "execution_count": 551,
   "metadata": {},
   "outputs": [
    {
     "name": "stdout",
     "output_type": "stream",
     "text": [
      "svc_Accuracy: 0.8973051711580481\n",
      "svc_train_Accuracy: 0.9005159332321699\n",
      "svc_f1: 0.36006051437216335\n",
      "svc_scorePre: 0.6149870801033591\n",
      "svc_scoreAcc: 0.8973051711580481\n"
     ]
    }
   ],
   "source": [
    "svc_test_Accuracy = accuracy_score(svc_ypred, y_test)\n",
    "print('svc_Accuracy:', svc_test_Accuracy)\n",
    "\n",
    "svc_train_Accuracy = accuracy_score(svc_train_pred, y_train)\n",
    "print('svc_train_Accuracy:', svc_train_Accuracy)\n",
    "\n",
    "svc_f1 = f1_score(y_test,svc_ypred,pos_label=1)\n",
    "print(f'svc_f1:',  svc_f1)\n",
    "\n",
    "svc_scorePre = precision_score(y_test, svc_ypred)\n",
    "print(f'svc_scorePre:', svc_scorePre)\n",
    "\n",
    "svc_scoreAcc = accuracy_score(y_test,svc_ypred)\n",
    "print(f'svc_scoreAcc:', svc_scoreAcc)"
   ]
  },
  {
   "cell_type": "markdown",
   "metadata": {},
   "source": [
    "### Problem 10: Model Comparisons\n",
    "\n",
    "Now, we aim to compare the performance of the Logistic Regression model to our KNN algorithm, Decision Tree, and SVM models.  Using the default settings for each of the models, fit and score each.  Also, be sure to compare the fit time of each of the models.  Present your findings in a `DataFrame` similar to that below:\n",
    "\n",
    "| Model | Train Time | Train Accuracy | Test Accuracy |\n",
    "| ----- | ---------- | -------------  | -----------   |\n",
    "|     |    |.     |.     |"
   ]
  },
  {
   "cell_type": "code",
   "execution_count": 552,
   "metadata": {},
   "outputs": [
    {
     "name": "stdout",
     "output_type": "stream",
     "text": [
      "Model                       Train Time    Train Accuracy     Test Accuracy\n",
      "------------------------  ------------  ----------------  ----------------\n",
      "Logistic Regression          0.0041151          0.910288        0.90823\n",
      "KNeighborsClassifier         4.81606            0.914628        0.903253\n",
      "Decision Tree Classifier     8.90261            0.905736        0.00153804\n",
      "Support Vrector Machine     31.8284             0.897305        0.900516\n"
     ]
    }
   ],
   "source": [
    "column_names = ['Model', 'Train Time', 'Train Accuracy', ' Test Accuracy']\n",
    "tab_data = [['Logistic Regression', lg_tpred, lg_trainAcc, lg_Accuracy],\n",
    "            ['KNeighborsClassifier', knn_tpred, knn_train_Acc, knn_Accuracy ],\n",
    "            ['Decision Tree Classifier', dtc_train, dtc_train_Accuracy,dtc_tpred ],\n",
    "            ['Support Vrector Machine', svc_pred_time, svc_test_Accuracy, svc_train_Accuracy ]]\n",
    "\n",
    "\n",
    "print(tabulate(tab_data, headers = column_names))"
   ]
  },
  {
   "cell_type": "markdown",
   "metadata": {},
   "source": [
    "### Problem 11: Improving the Model\n",
    "\n",
    "Now that we have some basic models on the board, we want to try to improve these.  Below, we list a few things to explore in this pursuit.\n",
    "\n",
    "- More feature engineering and exploration.  For example, should we keep the gender feature?  Why or why not?\n",
    "- Hyperparameter tuning and grid search.  All of our models have additional hyperparameters to tune and explore.  For example the number of neighbors in KNN or the maximum depth of a Decision Tree.  \n",
    "- Adjust your performance metric"
   ]
  },
  {
   "cell_type": "code",
   "execution_count": null,
   "metadata": {},
   "outputs": [],
   "source": []
  },
  {
   "cell_type": "markdown",
   "metadata": {},
   "source": [
    "##### Questions"
   ]
  }
 ],
 "metadata": {
  "kernelspec": {
   "display_name": "Python 3",
   "language": "python",
   "name": "python3"
  },
  "language_info": {
   "codemirror_mode": {
    "name": "ipython",
    "version": 3
   },
   "file_extension": ".py",
   "mimetype": "text/x-python",
   "name": "python",
   "nbconvert_exporter": "python",
   "pygments_lexer": "ipython3",
   "version": "3.9.12"
  },
  "widgets": {
   "application/vnd.jupyter.widget-state+json": {
    "state": {},
    "version_major": 2,
    "version_minor": 0
   }
  }
 },
 "nbformat": 4,
 "nbformat_minor": 4
}
